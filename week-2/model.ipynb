{
 "cells": [
  {
   "cell_type": "markdown",
   "id": "01ebae68",
   "metadata": {},
   "source": [
    "# Setup"
   ]
  },
  {
   "cell_type": "code",
   "execution_count": 2,
   "id": "98f4b2be",
   "metadata": {},
   "outputs": [
    {
     "data": {
      "text/plain": [
       "<torch._C.Generator at 0x10cbabbf0>"
      ]
     },
     "execution_count": 2,
     "metadata": {},
     "output_type": "execute_result"
    }
   ],
   "source": [
    "import numpy as np\n",
    "import matplotlib.pyplot as plt\n",
    "import seaborn as sns\n",
    "\n",
    "import torch\n",
    "from torch import nn\n",
    "\n",
    "RANDOM_SEED = 42\n",
    "torch.manual_seed(RANDOM_SEED)"
   ]
  },
  {
   "cell_type": "code",
   "execution_count": 3,
   "id": "2f2fc441",
   "metadata": {},
   "outputs": [
    {
     "name": "stdout",
     "output_type": "stream",
     "text": [
      "Using mps device\n"
     ]
    }
   ],
   "source": [
    "\n",
    "device = torch.accelerator.current_accelerator().type if torch.accelerator.is_available() else \"cpu\"\n",
    "print(f\"Using {device} device\")"
   ]
  },
  {
   "cell_type": "markdown",
   "id": "a9f11971",
   "metadata": {},
   "source": [
    "# Dataset"
   ]
  },
  {
   "cell_type": "code",
   "execution_count": 4,
   "id": "b019246f",
   "metadata": {},
   "outputs": [
    {
     "name": "stderr",
     "output_type": "stream",
     "text": [
      "/Users/arjunsharma/development/s25-fermilab-research/venv/lib/python3.12/site-packages/coffea/nanoevents/schemas/fcc.py:5: FutureWarning: In version 2025.1.0 (target date: 2024-12-31 11:59:59-06:00), this will be an error.\n",
      "To raise these warnings as errors (and get stack traces to find out where they're called), run\n",
      "    import warnings\n",
      "    warnings.filterwarnings(\"error\", module=\"coffea.*\")\n",
      "after the first `import coffea` or use `@pytest.mark.filterwarnings(\"error:::coffea.*\")` in pytest.\n",
      "Issue: coffea.nanoevents.methods.vector will be removed and replaced with scikit-hep vector. Nanoevents schemas internal to coffea will be migrated. Otherwise please consider using that package!.\n",
      "  from coffea.nanoevents.methods import vector\n"
     ]
    }
   ],
   "source": [
    "import jetnet\n",
    "from jetnet.datasets import JetNet\n",
    "from jetnet.datasets.normalisations import FeaturewiseLinearBounded, FeaturewiseLinear"
   ]
  },
  {
   "cell_type": "code",
   "execution_count": 5,
   "id": "03324810",
   "metadata": {},
   "outputs": [],
   "source": [
    "MASK = True\n",
    "NUM_PARTICLES = 30\n",
    "TRAIN_SPLIT = 0.7"
   ]
  },
  {
   "cell_type": "code",
   "execution_count": 6,
   "id": "bc6c187d",
   "metadata": {},
   "outputs": [],
   "source": [
    "\n",
    "feature_maxes = JetNet.fpnd_norm.feature_maxes\n",
    "if MASK:\n",
    "    feature_maxes = feature_maxes + [1]\n",
    "particle_normalizer = FeaturewiseLinearBounded(\n",
    "    feature_norms=1.0,\n",
    "    feature_shifts=[0.0, 0.0, -0.5, -0.5] if MASK else [0.0, 0.0, -0.5],\n",
    "    feature_maxes=feature_maxes, # Max pre-scaling values of each feature\n",
    ")\n",
    "\n",
    "FeaturewiseLinear(feature_scales=(1/NUM_PARTICLES))\n",
    "\n",
    "data_args = {\n",
    "    # Gluons, light quarks, and top quarks\n",
    "    \"jet_type\": [\"g\", \"q\", \"t\"],\n",
    "    \"data_dir\": \"datasets/jetnet\",\n",
    "    \"num_particles\": NUM_PARTICLES,\n",
    "    \"particle_features\": (\n",
    "        JetNet.ALL_PARTICLE_FEATURES if MASK else JetNet.ALL_PARTICLE_FEATURES[:-1]\n",
    "    ),\n",
    "    # Unlike MPGAN, retrieve jet-level info for conditioning\n",
    "    \"jet_features\": [\"type\", \"pt\", \"eta\", \"mass\", \"num_particles\"],\n",
    "    \"particle_normalisation\": particle_normalizer,\n",
    "    \"split_fraction\": [TRAIN_SPLIT, 1 - TRAIN_SPLIT, 0],\n",
    "    \"download\": True\n",
    "}"
   ]
  },
  {
   "cell_type": "code",
   "execution_count": 7,
   "id": "99bfdbca",
   "metadata": {},
   "outputs": [],
   "source": [
    "from torch.utils.data import DataLoader\n",
    "\n",
    "BATCH_SIZE = 128\n",
    "X_train = JetNet(**data_args, split=\"train\")\n",
    "X_train_loaded = DataLoader(X_train, shuffle=True, batch_size=BATCH_SIZE, pin_memory=True)\n",
    "\n",
    "X_test = JetNet(**data_args, split=\"valid\")\n",
    "X_test_loaded = DataLoader(X_test, batch_size=BATCH_SIZE, pin_memory=True)"
   ]
  },
  {
   "cell_type": "code",
   "execution_count": 8,
   "id": "ebc37352",
   "metadata": {},
   "outputs": [
    {
     "data": {
      "text/plain": [
       "368113"
      ]
     },
     "execution_count": 8,
     "metadata": {},
     "output_type": "execute_result"
    }
   ],
   "source": [
    "len(X_train)"
   ]
  },
  {
   "cell_type": "code",
   "execution_count": 9,
   "id": "6a4beb7c",
   "metadata": {},
   "outputs": [
    {
     "data": {
      "text/plain": [
       "torch.Size([30, 4])"
      ]
     },
     "execution_count": 9,
     "metadata": {},
     "output_type": "execute_result"
    }
   ],
   "source": [
    "X_train[0][0].shape"
   ]
  },
  {
   "cell_type": "code",
   "execution_count": 10,
   "id": "8ac762c7",
   "metadata": {},
   "outputs": [
    {
     "data": {
      "text/plain": [
       "torch.Size([5])"
      ]
     },
     "execution_count": 10,
     "metadata": {},
     "output_type": "execute_result"
    }
   ],
   "source": [
    "X_train[0][1].shape"
   ]
  },
  {
   "cell_type": "markdown",
   "id": "c351de38",
   "metadata": {},
   "source": [
    "`X_train` consists of 616,000 jets; each of which is represented as a tuple with 2 elements:\n",
    "1. A shape `30 x 4` tensor representing each of the particles in the jet, where the features are in the order of ['etarel', 'phirel', 'ptrel', 'mask']\n",
    "2. A length `5` tensor consisting of jet features [\"type\", \"pt\", \"eta\", \"mass\", \"num_particles\"]"
   ]
  },
  {
   "cell_type": "code",
   "execution_count": 11,
   "id": "12f964f7",
   "metadata": {},
   "outputs": [
    {
     "data": {
      "text/plain": [
       "jetnet.datasets.jetnet.JetNet"
      ]
     },
     "execution_count": 11,
     "metadata": {},
     "output_type": "execute_result"
    }
   ],
   "source": [
    "type(X_train)"
   ]
  },
  {
   "cell_type": "code",
   "execution_count": 12,
   "id": "1a841075",
   "metadata": {},
   "outputs": [
    {
     "name": "stderr",
     "output_type": "stream",
     "text": [
      "/Users/arjunsharma/development/s25-fermilab-research/venv/lib/python3.12/site-packages/torch/utils/data/dataloader.py:683: UserWarning: 'pin_memory' argument is set as true but not supported on MPS now, then device pinned memory won't be used.\n",
      "  warnings.warn(warn_msg)\n"
     ]
    },
    {
     "data": {
      "image/png": "[encoded data removed]",
      "text/plain": [
       "<Figure size 1000x600 with 1 Axes>"
      ]
     },
     "metadata": {},
     "output_type": "display_data"
    }
   ],
   "source": [
    "N_SAMPLES = 10_000\n",
    "\n",
    "type_vals = []\n",
    "for i, (particles, jets) in enumerate(X_train_loaded):\n",
    "    if i * BATCH_SIZE >= N_SAMPLES:\n",
    "        break\n",
    "    type_vals.extend(jets[:, 0].cpu().numpy())\n",
    "\n",
    "plt.figure(figsize=(10, 6))\n",
    "sns.histplot(type_vals, bins=50)\n",
    "plt.ylabel(\"Frequency\")\n",
    "plt.show()\n"
   ]
  },
  {
   "cell_type": "code",
   "execution_count": 13,
   "id": "d2f6748f",
   "metadata": {},
   "outputs": [
    {
     "data": {
      "text/plain": [
       "count    10112.000000\n",
       "mean         0.996341\n",
       "std          0.825663\n",
       "min          0.000000\n",
       "25%          0.000000\n",
       "50%          1.000000\n",
       "75%          2.000000\n",
       "max          2.000000\n",
       "dtype: float64"
      ]
     },
     "execution_count": 13,
     "metadata": {},
     "output_type": "execute_result"
    }
   ],
   "source": [
    "import pandas as pd\n",
    "pd.Series(type_vals).describe()"
   ]
  },
  {
   "cell_type": "markdown",
   "id": "c831d9eb",
   "metadata": {},
   "source": [
    "## Model"
   ]
  },
  {
   "cell_type": "code",
   "execution_count": 14,
   "id": "6150da43",
   "metadata": {},
   "outputs": [],
   "source": [
    "from models.LorentzNet import LGEB"
   ]
  },
  {
   "cell_type": "code",
   "execution_count": null,
   "id": "5e38174a",
   "metadata": {},
   "outputs": [],
   "source": []
  }
 ],
 "metadata": {
  "kernelspec": {
   "display_name": "venv",
   "language": "python",
   "name": "python3"
  },
  "language_info": {
   "codemirror_mode": {
    "name": "ipython",
    "version": 3
   },
   "file_extension": ".py",
   "mimetype": "text/x-python",
   "name": "python",
   "nbconvert_exporter": "python",
   "pygments_lexer": "ipython3",
   "version": "3.12.9"
  }
 },
 "nbformat": 4,
 "nbformat_minor": 5
}
